{
 "cells": [
  {
   "cell_type": "markdown",
   "id": "a253ccf3",
   "metadata": {},
   "source": [
    "## Assignment No_2"
   ]
  },
  {
   "cell_type": "code",
   "execution_count": null,
   "id": "0bcdd460",
   "metadata": {},
   "outputs": [],
   "source": [
    "#Que:1 What are the two values of the Boolean data type? How do you write them?"
   ]
  },
  {
   "cell_type": "code",
   "execution_count": null,
   "id": "4eddb527",
   "metadata": {},
   "outputs": [],
   "source": [
    "The two values of the Boolean data type are true and false.The result of a Boolean expression is either true or false.\n",
    "Generally, it is used to represent the truth values of the expressions. For example, 1== 0 is True whereas 3<1 is False."
   ]
  },
  {
   "cell_type": "code",
   "execution_count": null,
   "id": "447c2cf1",
   "metadata": {},
   "outputs": [],
   "source": [
    "#Que:2 What are the three different types of Boolean operators?"
   ]
  },
  {
   "cell_type": "code",
   "execution_count": null,
   "id": "82e53920",
   "metadata": {},
   "outputs": [],
   "source": [
    "The three different types of boolean operators are AND,OR and NOT."
   ]
  },
  {
   "cell_type": "code",
   "execution_count": null,
   "id": "5fb2921e",
   "metadata": {},
   "outputs": [],
   "source": [
    "#Que:3 Make a list of each Boolean operator's truth tables \n",
    "#(i.e. every possible combination of Boolean values for the operator and what it evaluate )."
   ]
  },
  {
   "cell_type": "code",
   "execution_count": null,
   "id": "5992d419",
   "metadata": {},
   "outputs": [],
   "source": [
    "AND            \n",
    "T T = T\n",
    "F T = F\n",
    "T F = F\n",
    "F F = F\n",
    "\n",
    "OR\n",
    "T T = T\n",
    "F T = T\n",
    "T F = T\n",
    "F F = F"
   ]
  },
  {
   "cell_type": "code",
   "execution_count": null,
   "id": "1f85bbc3",
   "metadata": {},
   "outputs": [],
   "source": [
    "#Que:4 What are the values of the following expressions?"
   ]
  },
  {
   "cell_type": "code",
   "execution_count": 1,
   "id": "88cbfb65",
   "metadata": {},
   "outputs": [
    {
     "data": {
      "text/plain": [
       "False"
      ]
     },
     "execution_count": 1,
     "metadata": {},
     "output_type": "execute_result"
    }
   ],
   "source": [
    "(5 > 4) and (3 == 5)"
   ]
  },
  {
   "cell_type": "code",
   "execution_count": 2,
   "id": "284efff7",
   "metadata": {},
   "outputs": [
    {
     "data": {
      "text/plain": [
       "False"
      ]
     },
     "execution_count": 2,
     "metadata": {},
     "output_type": "execute_result"
    }
   ],
   "source": [
    "not (5 > 4)"
   ]
  },
  {
   "cell_type": "code",
   "execution_count": 3,
   "id": "3fc587f7",
   "metadata": {},
   "outputs": [
    {
     "data": {
      "text/plain": [
       "True"
      ]
     },
     "execution_count": 3,
     "metadata": {},
     "output_type": "execute_result"
    }
   ],
   "source": [
    "(5 > 4) or (3 == 5)"
   ]
  },
  {
   "cell_type": "code",
   "execution_count": 4,
   "id": "abcc525a",
   "metadata": {},
   "outputs": [
    {
     "data": {
      "text/plain": [
       "False"
      ]
     },
     "execution_count": 4,
     "metadata": {},
     "output_type": "execute_result"
    }
   ],
   "source": [
    "not ((5 > 4) or (3 == 5))"
   ]
  },
  {
   "cell_type": "code",
   "execution_count": 5,
   "id": "6094cb41",
   "metadata": {},
   "outputs": [
    {
     "data": {
      "text/plain": [
       "False"
      ]
     },
     "execution_count": 5,
     "metadata": {},
     "output_type": "execute_result"
    }
   ],
   "source": [
    "(True and True) and (True == False)"
   ]
  },
  {
   "cell_type": "code",
   "execution_count": 6,
   "id": "1a41465d",
   "metadata": {},
   "outputs": [
    {
     "data": {
      "text/plain": [
       "True"
      ]
     },
     "execution_count": 6,
     "metadata": {},
     "output_type": "execute_result"
    }
   ],
   "source": [
    "(not False) or (not True)"
   ]
  },
  {
   "cell_type": "code",
   "execution_count": null,
   "id": "1b032ee7",
   "metadata": {},
   "outputs": [],
   "source": [
    "#Que:5 What are the six comparison operators?"
   ]
  },
  {
   "cell_type": "code",
   "execution_count": null,
   "id": "d4a3ee3c",
   "metadata": {},
   "outputs": [],
   "source": [
    "There are six main comparison operators\n",
    "equal to, not equal to, greater than,less than,greater than or equal to, and less than or equal to."
   ]
  },
  {
   "cell_type": "code",
   "execution_count": null,
   "id": "81534dc5",
   "metadata": {},
   "outputs": [],
   "source": [
    "#Que:6 How do you tell the difference between the equal to and assignment operators?\n",
    "#Describe a condition and when you would use one."
   ]
  },
  {
   "cell_type": "code",
   "execution_count": 1,
   "id": "4ffb3923",
   "metadata": {},
   "outputs": [],
   "source": [
    "The '==' is the so-called equality comparison operator and is used to check whether the two expressions\n",
    "on both sides are equal or not.\n",
    "The '=' is the so-called assignment operator and is used to assign the result of the expression on the \n",
    "right side of the operator to the variable on the left side. \n",
    "\n",
    "5==5\n",
    "This will return true.\n",
    "\n",
    "a=10."
   ]
  },
  {
   "cell_type": "code",
   "execution_count": null,
   "id": "30346e85",
   "metadata": {},
   "outputs": [],
   "source": [
    "#Que:7 Identify the three blocks in this code:"
   ]
  },
  {
   "cell_type": "code",
   "execution_count": null,
   "id": "83237669",
   "metadata": {},
   "outputs": [],
   "source": [
    "spam = 0\n",
    "if spam == 10:\n",
    "    print('eggs')\n",
    "    if spam > 5:\n",
    "        print('bacon')\n",
    "    else:\n",
    "        print('ham')\n",
    "        print('spam')\n",
    "        print('spam')"
   ]
  },
  {
   "cell_type": "code",
   "execution_count": null,
   "id": "476668f1",
   "metadata": {},
   "outputs": [],
   "source": [
    "print('eggs'),print('bacon'),print('ham')"
   ]
  },
  {
   "cell_type": "code",
   "execution_count": 1,
   "id": "f861e866",
   "metadata": {},
   "outputs": [],
   "source": [
    "#Que:8 Write code that prints Hello if 1 is stored in spam, prints Howdy if 2 is stored in spam, \n",
    "#and prints Greetings! if anything else is stored in spam."
   ]
  },
  {
   "cell_type": "code",
   "execution_count": null,
   "id": "6b38112f",
   "metadata": {},
   "outputs": [],
   "source": [
    "if spam = 1:\n",
    "    print('Hello')   \n",
    "elif spam = 2:\n",
    "    print('Howdy')\n",
    "else:\n",
    "    print('Greetings')\n",
    "        "
   ]
  },
  {
   "cell_type": "code",
   "execution_count": null,
   "id": "39f779d8",
   "metadata": {},
   "outputs": [],
   "source": [
    "#Que:9 If your programme is stuck in an endless loop, what keys you’ll press?"
   ]
  },
  {
   "cell_type": "code",
   "execution_count": null,
   "id": "04a23646",
   "metadata": {},
   "outputs": [],
   "source": [
    "shift+tab"
   ]
  },
  {
   "cell_type": "code",
   "execution_count": null,
   "id": "99be9bc1",
   "metadata": {},
   "outputs": [],
   "source": [
    "#Que:10 How can you tell the difference between break and continue?"
   ]
  },
  {
   "cell_type": "code",
   "execution_count": null,
   "id": "f35e6f11",
   "metadata": {},
   "outputs": [],
   "source": [
    "Break leaves the loop completely and executes the statements after the loop.\n",
    "Whereas Continue leaves the current iteration and executes with the next value in the loop. \n",
    "break completely exits the loop. continue skips the statements after the continue statement and keeps looping."
   ]
  },
  {
   "cell_type": "code",
   "execution_count": null,
   "id": "213299d5",
   "metadata": {},
   "outputs": [],
   "source": [
    "#Que:11 In a for loop, what is the difference between range(10), range(0, 10), and range(0, 10, 1)?"
   ]
  },
  {
   "cell_type": "code",
   "execution_count": 5,
   "id": "778639b5",
   "metadata": {},
   "outputs": [],
   "source": [
    "import numpy as np"
   ]
  },
  {
   "cell_type": "code",
   "execution_count": 10,
   "id": "71ae8af9",
   "metadata": {},
   "outputs": [
    {
     "data": {
      "text/plain": [
       "array([0, 1, 2, 3, 4, 5, 6, 7, 8, 9])"
      ]
     },
     "execution_count": 10,
     "metadata": {},
     "output_type": "execute_result"
    }
   ],
   "source": [
    "np.arange(10)"
   ]
  },
  {
   "cell_type": "code",
   "execution_count": 11,
   "id": "f1f070a9",
   "metadata": {},
   "outputs": [
    {
     "data": {
      "text/plain": [
       "array([0, 1, 2, 3, 4, 5, 6, 7, 8, 9])"
      ]
     },
     "execution_count": 11,
     "metadata": {},
     "output_type": "execute_result"
    }
   ],
   "source": [
    "np.arange(0,10)"
   ]
  },
  {
   "cell_type": "code",
   "execution_count": 9,
   "id": "d77bd225",
   "metadata": {},
   "outputs": [
    {
     "data": {
      "text/plain": [
       "array([0, 1, 2, 3, 4, 5, 6, 7, 8, 9])"
      ]
     },
     "execution_count": 9,
     "metadata": {},
     "output_type": "execute_result"
    }
   ],
   "source": [
    "np.arange(0,10,1)"
   ]
  },
  {
   "cell_type": "code",
   "execution_count": 26,
   "id": "83f93500",
   "metadata": {},
   "outputs": [
    {
     "data": {
      "text/plain": [
       "array([0, 4, 8])"
      ]
     },
     "execution_count": 26,
     "metadata": {},
     "output_type": "execute_result"
    }
   ],
   "source": [
    "np.arange(0,10,4)"
   ]
  },
  {
   "cell_type": "markdown",
   "id": "2b5dd47d",
   "metadata": {},
   "source": [
    "range(10) and range(0, 10) are same but in lastone range(0, 10, 1) u will get the nos 0-10 in interval of 1 or u can put any no."
   ]
  },
  {
   "cell_type": "code",
   "execution_count": null,
   "id": "c28eb7ed",
   "metadata": {},
   "outputs": [],
   "source": [
    "#Que:12 Write a short program that prints the numbers 1 to 10 using a for loop. \n",
    "#Then write an equivalent program that prints the numbers 1 to 10 using a while loop."
   ]
  },
  {
   "cell_type": "code",
   "execution_count": 31,
   "id": "e69e985a",
   "metadata": {},
   "outputs": [
    {
     "name": "stdout",
     "output_type": "stream",
     "text": [
      "0\n",
      "1\n",
      "2\n",
      "3\n",
      "4\n",
      "5\n",
      "6\n",
      "7\n",
      "8\n",
      "9\n",
      "10\n"
     ]
    }
   ],
   "source": [
    "# for loop\n",
    "for v in range(0,11):\n",
    "    print (v)"
   ]
  },
  {
   "cell_type": "code",
   "execution_count": 37,
   "id": "a6336cf5",
   "metadata": {},
   "outputs": [
    {
     "name": "stdout",
     "output_type": "stream",
     "text": [
      "1\n",
      "2\n",
      "3\n",
      "4\n",
      "5\n",
      "6\n",
      "7\n",
      "8\n",
      "9\n",
      "10\n"
     ]
    }
   ],
   "source": [
    "# while loop\n",
    "v = 1\n",
    "while(v<=10):\n",
    "    print(v)\n",
    "    v += 1\n"
   ]
  },
  {
   "cell_type": "code",
   "execution_count": null,
   "id": "3867afd0",
   "metadata": {},
   "outputs": [],
   "source": [
    "#Que:13 If you had a function named bacon() inside a module named spam, how would you call it after importing spam?"
   ]
  },
  {
   "cell_type": "code",
   "execution_count": 13,
   "id": "3fefd0f4",
   "metadata": {},
   "outputs": [
    {
     "ename": "ModuleNotFoundError",
     "evalue": "No module named 'spam'",
     "output_type": "error",
     "traceback": [
      "\u001b[1;31m---------------------------------------------------------------------------\u001b[0m",
      "\u001b[1;31mModuleNotFoundError\u001b[0m                       Traceback (most recent call last)",
      "\u001b[1;32m<ipython-input-13-d046eaba9d8a>\u001b[0m in \u001b[0;36m<module>\u001b[1;34m\u001b[0m\n\u001b[1;32m----> 1\u001b[1;33m \u001b[1;32mimport\u001b[0m \u001b[0mspam\u001b[0m\u001b[1;33m\u001b[0m\u001b[1;33m\u001b[0m\u001b[0m\n\u001b[0m\u001b[0;32m      2\u001b[0m \u001b[0mspam\u001b[0m\u001b[1;33m.\u001b[0m\u001b[0mbacon\u001b[0m\u001b[1;33m(\u001b[0m\u001b[1;33m)\u001b[0m\u001b[1;33m\u001b[0m\u001b[1;33m\u001b[0m\u001b[0m\n",
      "\u001b[1;31mModuleNotFoundError\u001b[0m: No module named 'spam'"
     ]
    }
   ],
   "source": [
    "import spam\n",
    "spam.bacon()"
   ]
  },
  {
   "cell_type": "code",
   "execution_count": null,
   "id": "f07220f1",
   "metadata": {},
   "outputs": [],
   "source": []
  }
 ],
 "metadata": {
  "kernelspec": {
   "display_name": "Python 3",
   "language": "python",
   "name": "python3"
  },
  "language_info": {
   "codemirror_mode": {
    "name": "ipython",
    "version": 3
   },
   "file_extension": ".py",
   "mimetype": "text/x-python",
   "name": "python",
   "nbconvert_exporter": "python",
   "pygments_lexer": "ipython3",
   "version": "3.8.8"
  }
 },
 "nbformat": 4,
 "nbformat_minor": 5
}
